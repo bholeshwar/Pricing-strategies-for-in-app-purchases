{
  "nbformat": 4,
  "nbformat_minor": 0,
  "metadata": {
    "colab": {
      "name": "Game Theory Thresholds.ipynb",
      "provenance": [],
      "collapsed_sections": []
    },
    "kernelspec": {
      "display_name": "Python 3",
      "name": "python3"
    }
  },
  "cells": [
    {
      "cell_type": "code",
      "metadata": {
        "colab": {
          "base_uri": "https://localhost:8080/"
        },
        "id": "4phYpiYbJ0Th",
        "outputId": "99c10c56-1d7f-407a-a546-c09366ee2596"
      },
      "source": [
        "import numpy as np\n",
        "num_players =  10000\n",
        "num_days = 100\n",
        "lamda_expo = 0.2 * np.log(20/11)\n",
        "print(lamda_expo,1/lamda_expo)\n",
        "thresholds = np.random.exponential(scale = 1/lamda_expo,size = num_players)"
      ],
      "execution_count": null,
      "outputs": [
        {
          "output_type": "stream",
          "text": [
            "0.11956740015112409 8.363483681472342\n"
          ],
          "name": "stdout"
        }
      ]
    },
    {
      "cell_type": "code",
      "metadata": {
        "colab": {
          "base_uri": "https://localhost:8080/"
        },
        "id": "M4mVqlL_gedH",
        "outputId": "5192976b-ffb1-4eae-b6a1-69e4a2b60f98"
      },
      "source": [
        "from google.colab import drive\n",
        "drive.mount('/content/drive/', force_remount=True)\n",
        "thresholds = np.load(\"/content/drive/My Drive/threholds.npy\")"
      ],
      "execution_count": null,
      "outputs": [
        {
          "output_type": "stream",
          "text": [
            "Mounted at /content/drive/\n"
          ],
          "name": "stdout"
        }
      ]
    },
    {
      "cell_type": "code",
      "metadata": {
        "colab": {
          "base_uri": "https://localhost:8080/"
        },
        "id": "0K5OfeGHKZTq",
        "outputId": "999cb7e3-c13f-485f-9018-471990b1e1c3"
      },
      "source": [
        "thresholds[0]"
      ],
      "execution_count": null,
      "outputs": [
        {
          "output_type": "execute_result",
          "data": {
            "text/plain": [
              "7.419763251972141"
            ]
          },
          "metadata": {
            "tags": []
          },
          "execution_count": 8
        }
      ]
    },
    {
      "cell_type": "code",
      "metadata": {
        "colab": {
          "base_uri": "https://localhost:8080/",
          "height": 283
        },
        "id": "o0Bxmhs-LRvS",
        "outputId": "cc8e62cb-fc35-4c4e-9411-42cb465834df"
      },
      "source": [
        "import matplotlib.pyplot as plt\n",
        "plt.plot(thresholds)\n",
        "plt.show"
      ],
      "execution_count": null,
      "outputs": [
        {
          "output_type": "execute_result",
          "data": {
            "text/plain": [
              "<function matplotlib.pyplot.show>"
            ]
          },
          "metadata": {
            "tags": []
          },
          "execution_count": 19
        },
        {
          "output_type": "display_data",
          "data": {
            "image/png": "[encoded data removed]",
            "text/plain": [
              "<Figure size 432x288 with 1 Axes>"
            ]
          },
          "metadata": {
            "tags": []
          }
        }
      ]
    },
    {
      "cell_type": "code",
      "metadata": {
        "id": "yhS4e6hgMMay"
      },
      "source": [
        "def calculate_motivations(thresholds,price_on_that_day):\n",
        "  return  thresholds - price_on_that_day\n",
        "\n",
        "def pick_most_motivated_players(motivations,supply):\n",
        "  if(len(motivations[motivations > 0]) >= supply):\n",
        "    return  (-motivations).argsort()[:supply]\n",
        "  else:\n",
        "    if(len(motivations[motivations > 0]) == 0):\n",
        "      return []\n",
        "    indices = [i for i in range(len(motivations))]\n",
        "    indices = np.array(indices)\n",
        "    return indices[motivations > 0]\n",
        "\n"
      ],
      "execution_count": null,
      "outputs": []
    },
    {
      "cell_type": "code",
      "metadata": {
        "colab": {
          "base_uri": "https://localhost:8080/",
          "height": 371
        },
        "id": "8HNPe-_eNiTj",
        "outputId": "218c970b-e092-42d9-a65f-b252e2bef76e"
      },
      "source": [
        "### Keeping the supply constant \n",
        "num_days = 300\n",
        "parameters = []\n",
        "max_price = 75\n",
        "min_price = 5\n",
        "thresholds = np.load(\"/content/drive/My Drive/threholds.npy\")\n",
        "total_revenue = 0\n",
        "revenues = []\n",
        "current_price = max_price\n",
        "constant_decrement = 0.5\n",
        "save_thresholds = np.copy(thresholds)\n",
        "for i in range(num_days):\n",
        "  parameters_on_a_day = {\n",
        "    'supply': 100,\n",
        "    'price' : 100\n",
        "  }\n",
        "  if(current_price < min_price):\n",
        "    break\n",
        "  parameters_on_a_day['price'] = current_price\n",
        "  motivations = fcfs(thresholds,current_price)\n",
        "  who_bought = pick_most_motivated_players(motivations,parameters_on_a_day['supply'])\n",
        "  parameters_on_a_day['sold'] = len(who_bought)\n",
        "  thresholds = np.delete(thresholds,who_bought)\n",
        "  parameters.append(parameters_on_a_day)\n",
        "  revenues.append(len(who_bought) * current_price)\n",
        "  current_price = current_price - constant_decrement\n",
        "\n",
        "revenues = np.array(revenues)\n",
        "total_revenue = np.sum(revenues)\n",
        "print(total_revenue)\n",
        "plt.plot(revenues)\n",
        "plt.show()"
      ],
      "execution_count": null,
      "outputs": [
        {
          "output_type": "error",
          "ename": "TypeError",
          "evalue": "ignored",
          "traceback": [
            "\u001b[0;31m---------------------------------------------------------------------------\u001b[0m",
            "\u001b[0;31mTypeError\u001b[0m                                 Traceback (most recent call last)",
            "\u001b[0;32m<ipython-input-11-49b88af4457a>\u001b[0m in \u001b[0;36m<module>\u001b[0;34m()\u001b[0m\n\u001b[1;32m     18\u001b[0m     \u001b[0;32mbreak\u001b[0m\u001b[0;34m\u001b[0m\u001b[0;34m\u001b[0m\u001b[0m\n\u001b[1;32m     19\u001b[0m   \u001b[0mparameters_on_a_day\u001b[0m\u001b[0;34m[\u001b[0m\u001b[0;34m'price'\u001b[0m\u001b[0;34m]\u001b[0m \u001b[0;34m=\u001b[0m \u001b[0mcurrent_price\u001b[0m\u001b[0;34m\u001b[0m\u001b[0;34m\u001b[0m\u001b[0m\n\u001b[0;32m---> 20\u001b[0;31m   \u001b[0mmotivations\u001b[0m \u001b[0;34m=\u001b[0m \u001b[0mfcfs\u001b[0m\u001b[0;34m(\u001b[0m\u001b[0mthresholds\u001b[0m\u001b[0;34m,\u001b[0m\u001b[0mcurrent_price\u001b[0m\u001b[0;34m)\u001b[0m\u001b[0;34m\u001b[0m\u001b[0;34m\u001b[0m\u001b[0m\n\u001b[0m\u001b[1;32m     21\u001b[0m   \u001b[0mwho_bought\u001b[0m \u001b[0;34m=\u001b[0m \u001b[0mpick_most_motivated_players\u001b[0m\u001b[0;34m(\u001b[0m\u001b[0mmotivations\u001b[0m\u001b[0;34m,\u001b[0m\u001b[0mparameters_on_a_day\u001b[0m\u001b[0;34m[\u001b[0m\u001b[0;34m'supply'\u001b[0m\u001b[0;34m]\u001b[0m\u001b[0;34m)\u001b[0m\u001b[0;34m\u001b[0m\u001b[0;34m\u001b[0m\u001b[0m\n\u001b[1;32m     22\u001b[0m   \u001b[0mparameters_on_a_day\u001b[0m\u001b[0;34m[\u001b[0m\u001b[0;34m'sold'\u001b[0m\u001b[0;34m]\u001b[0m \u001b[0;34m=\u001b[0m \u001b[0mlen\u001b[0m\u001b[0;34m(\u001b[0m\u001b[0mwho_bought\u001b[0m\u001b[0;34m)\u001b[0m\u001b[0;34m\u001b[0m\u001b[0;34m\u001b[0m\u001b[0m\n",
            "\u001b[0;32m<ipython-input-10-5488845084e4>\u001b[0m in \u001b[0;36mfcfs\u001b[0;34m(motivations, supply)\u001b[0m\n\u001b[1;32m     21\u001b[0m     \u001b[0mindices\u001b[0m \u001b[0;34m=\u001b[0m \u001b[0;34m(\u001b[0m\u001b[0;34m-\u001b[0m\u001b[0mmotivations\u001b[0m\u001b[0;34m)\u001b[0m\u001b[0;34m.\u001b[0m\u001b[0margsort\u001b[0m\u001b[0;34m(\u001b[0m\u001b[0;34m)\u001b[0m\u001b[0;34m[\u001b[0m\u001b[0;34m:\u001b[0m\u001b[0mapplicable_players\u001b[0m\u001b[0;34m]\u001b[0m\u001b[0;34m\u001b[0m\u001b[0;34m\u001b[0m\u001b[0m\n\u001b[1;32m     22\u001b[0m     \u001b[0mrandom\u001b[0m\u001b[0;34m.\u001b[0m\u001b[0mshuffle\u001b[0m\u001b[0;34m(\u001b[0m\u001b[0mindices\u001b[0m\u001b[0;34m)\u001b[0m\u001b[0;34m\u001b[0m\u001b[0;34m\u001b[0m\u001b[0m\n\u001b[0;32m---> 23\u001b[0;31m     \u001b[0;32mreturn\u001b[0m \u001b[0mindices\u001b[0m\u001b[0;34m[\u001b[0m\u001b[0;34m:\u001b[0m\u001b[0msupply\u001b[0m\u001b[0;34m]\u001b[0m\u001b[0;34m\u001b[0m\u001b[0;34m\u001b[0m\u001b[0m\n\u001b[0m\u001b[1;32m     24\u001b[0m   \u001b[0;32melse\u001b[0m\u001b[0;34m:\u001b[0m\u001b[0;34m\u001b[0m\u001b[0;34m\u001b[0m\u001b[0m\n\u001b[1;32m     25\u001b[0m     \u001b[0;32mif\u001b[0m\u001b[0;34m(\u001b[0m\u001b[0mapplicable_players\u001b[0m \u001b[0;34m==\u001b[0m \u001b[0;36m0\u001b[0m\u001b[0;34m)\u001b[0m\u001b[0;34m:\u001b[0m\u001b[0;34m\u001b[0m\u001b[0;34m\u001b[0m\u001b[0m\n",
            "\u001b[0;31mTypeError\u001b[0m: slice indices must be integers or None or have an __index__ method"
          ]
        }
      ]
    },
    {
      "cell_type": "code",
      "metadata": {
        "colab": {
          "base_uri": "https://localhost:8080/"
        },
        "id": "WYd7UTa_Pufs",
        "outputId": "416d4b39-0658-419c-fe71-4443c7202d81"
      },
      "source": [
        "parameters"
      ],
      "execution_count": null,
      "outputs": [
        {
          "output_type": "execute_result",
          "data": {
            "text/plain": [
              "[{'price': 6, 'sold': 0, 'supply': 100},\n",
              " {'price': 5.9, 'sold': 0, 'supply': 100},\n",
              " {'price': 5.800000000000001, 'sold': 0, 'supply': 100},\n",
              " {'price': 5.700000000000001, 'sold': 0, 'supply': 100},\n",
              " {'price': 5.600000000000001, 'sold': 0, 'supply': 100},\n",
              " {'price': 5.500000000000002, 'sold': 0, 'supply': 100},\n",
              " {'price': 5.400000000000002, 'sold': 0, 'supply': 100},\n",
              " {'price': 5.3000000000000025, 'sold': 0, 'supply': 100},\n",
              " {'price': 5.200000000000003, 'sold': 0, 'supply': 100},\n",
              " {'price': 5.100000000000003, 'sold': 0, 'supply': 100},\n",
              " {'price': 5.0000000000000036, 'sold': 0, 'supply': 100},\n",
              " {'price': 4.900000000000004, 'sold': 0, 'supply': 100},\n",
              " {'price': 4.800000000000004, 'sold': 0, 'supply': 100},\n",
              " {'price': 4.700000000000005, 'sold': 0, 'supply': 100},\n",
              " {'price': 4.600000000000005, 'sold': 0, 'supply': 100},\n",
              " {'price': 4.500000000000005, 'sold': 0, 'supply': 100},\n",
              " {'price': 4.400000000000006, 'sold': 0, 'supply': 100},\n",
              " {'price': 4.300000000000006, 'sold': 0, 'supply': 100},\n",
              " {'price': 4.200000000000006, 'sold': 0, 'supply': 100},\n",
              " {'price': 4.100000000000007, 'sold': 0, 'supply': 100},\n",
              " {'price': 4.000000000000007, 'sold': 0, 'supply': 100},\n",
              " {'price': 3.900000000000007, 'sold': 0, 'supply': 100},\n",
              " {'price': 3.800000000000007, 'sold': 0, 'supply': 100},\n",
              " {'price': 3.700000000000007, 'sold': 0, 'supply': 100},\n",
              " {'price': 3.6000000000000068, 'sold': 0, 'supply': 100},\n",
              " {'price': 3.5000000000000067, 'sold': 0, 'supply': 100},\n",
              " {'price': 3.4000000000000066, 'sold': 0, 'supply': 100},\n",
              " {'price': 3.3000000000000065, 'sold': 0, 'supply': 100},\n",
              " {'price': 3.2000000000000064, 'sold': 0, 'supply': 100},\n",
              " {'price': 3.1000000000000063, 'sold': 0, 'supply': 100},\n",
              " {'price': 3.000000000000006, 'sold': 0, 'supply': 100},\n",
              " {'price': 2.900000000000006, 'sold': 0, 'supply': 100},\n",
              " {'price': 2.800000000000006, 'sold': 0, 'supply': 100},\n",
              " {'price': 2.700000000000006, 'sold': 0, 'supply': 100},\n",
              " {'price': 2.600000000000006, 'sold': 0, 'supply': 100},\n",
              " {'price': 2.5000000000000058, 'sold': 0, 'supply': 100},\n",
              " {'price': 2.4000000000000057, 'sold': 0, 'supply': 100},\n",
              " {'price': 2.3000000000000056, 'sold': 0, 'supply': 100},\n",
              " {'price': 2.2000000000000055, 'sold': 0, 'supply': 100},\n",
              " {'price': 2.1000000000000054, 'sold': 0, 'supply': 100},\n",
              " {'price': 2.0000000000000053, 'sold': 0, 'supply': 100},\n",
              " {'price': 1.9000000000000052, 'sold': 0, 'supply': 100},\n",
              " {'price': 1.8000000000000052, 'sold': 0, 'supply': 100},\n",
              " {'price': 1.700000000000005, 'sold': 0, 'supply': 100},\n",
              " {'price': 1.600000000000005, 'sold': 0, 'supply': 100},\n",
              " {'price': 1.5000000000000049, 'sold': 0, 'supply': 100},\n",
              " {'price': 1.4000000000000048, 'sold': 0, 'supply': 100},\n",
              " {'price': 1.3000000000000047, 'sold': 0, 'supply': 100},\n",
              " {'price': 1.2000000000000046, 'sold': 0, 'supply': 100},\n",
              " {'price': 1.1000000000000045, 'sold': 0, 'supply': 100},\n",
              " {'price': 1.0000000000000044, 'sold': 0, 'supply': 100},\n",
              " {'price': 0.9000000000000045, 'sold': 0, 'supply': 100},\n",
              " {'price': 0.8000000000000045, 'sold': 0, 'supply': 100},\n",
              " {'price': 0.7000000000000045, 'sold': 0, 'supply': 100},\n",
              " {'price': 0.6000000000000045, 'sold': 0, 'supply': 100},\n",
              " {'price': 0.5000000000000046, 'sold': 0, 'supply': 100},\n",
              " {'price': 0.4000000000000046, 'sold': 0, 'supply': 100},\n",
              " {'price': 0.3000000000000046, 'sold': 0, 'supply': 100}]"
            ]
          },
          "metadata": {
            "tags": []
          },
          "execution_count": 14
        }
      ]
    },
    {
      "cell_type": "code",
      "metadata": {
        "colab": {
          "base_uri": "https://localhost:8080/"
        },
        "id": "Hiq8m4d7Qkp2",
        "outputId": "a259dc1a-75d2-4f03-c606-a8b8d9bedd21"
      },
      "source": [
        "calculate_motivations(thresholds,5)"
      ],
      "execution_count": null,
      "outputs": [
        {
          "output_type": "execute_result",
          "data": {
            "text/plain": [
              "array([], dtype=float64)"
            ]
          },
          "metadata": {
            "tags": []
          },
          "execution_count": 29
        }
      ]
    },
    {
      "cell_type": "code",
      "metadata": {
        "colab": {
          "base_uri": "https://localhost:8080/"
        },
        "id": "lJpbxbwHRFb0",
        "outputId": "622be22d-a64f-4d69-cb8f-165224b822d1"
      },
      "source": [
        "thresholds = np.load(\"/content/drive/My Drive/threholds.npy\")\n",
        "np.max(thresholds)"
      ],
      "execution_count": null,
      "outputs": [
        {
          "output_type": "execute_result",
          "data": {
            "text/plain": [
              "71.67573233038755"
            ]
          },
          "metadata": {
            "tags": []
          },
          "execution_count": 18
        }
      ]
    },
    {
      "cell_type": "markdown",
      "metadata": {
        "id": "MU-Aha1Bpaus"
      },
      "source": [
        ""
      ]
    },
    {
      "cell_type": "markdown",
      "metadata": {
        "id": "-Ubm-O1Qh5Du"
      },
      "source": [
        "Trying Out First Model with Changing the Supply  \n"
      ]
    },
    {
      "cell_type": "code",
      "metadata": {
        "id": "zeKFGOpmh-Yu"
      },
      "source": [
        "import numpy as np\n",
        "import matplotlib.pyplot as plt\n",
        "import random\n",
        "def calculate_motivations(thresholds,price_on_that_day):\n",
        "  return  thresholds - price_on_that_day\n",
        "\n",
        "def pick_most_motivated_players(motivations,supply):\n",
        "  if(len(motivations[motivations > 0]) >= supply):\n",
        "    return  (-motivations).argsort()[:supply]\n",
        "  else:\n",
        "    if(len(motivations[motivations > 0]) == 0):\n",
        "      return []\n",
        "    indices = [i for i in range(len(motivations))]\n",
        "    indices = np.array(indices)\n",
        "    return indices[motivations > 0]\n",
        "\n",
        "def fcfs(motivations, supply):\n",
        "  applicable_players = len(motivations[motivations > 0])\n",
        "\n",
        "  if(applicable_players >= supply):\n",
        "    indices = (-motivations).argsort()[:applicable_players]\n",
        "    random.shuffle(indices)\n",
        "    return indices[:supply]\n",
        "  else:\n",
        "    if(applicable_players == 0):\n",
        "      return []\n",
        "    indices = [i for i in range(len(motivations))]\n",
        "    indices = np.array(indices)\n",
        "    return indices[motivations > 0]"
      ],
      "execution_count": null,
      "outputs": []
    },
    {
      "cell_type": "code",
      "metadata": {
        "colab": {
          "base_uri": "https://localhost:8080/",
          "height": 283
        },
        "id": "TcIBg9SmlYQc",
        "outputId": "0d2a090f-89c7-4f4b-fbe4-d8e1fd96efb3"
      },
      "source": [
        "### Keeping the supply constant \n",
        "parameters = []\n",
        "num_players =  10000\n",
        "num_days = 300\n",
        "max_price = 75\n",
        "min_price = 5\n",
        "thresholds = np.load(\"/content/drive/My Drive/threholds.npy\")\n",
        "total_revenue = 0\n",
        "revenues = []\n",
        "current_price = max_price\n",
        "current_supply = 100\n",
        "change = {'price' : 0.5,'supply':10}\n",
        "save_thresholds = np.copy(thresholds)\n",
        "for i in range(num_days):\n",
        "  parameters_on_a_day = {\n",
        "    'supply': 100,\n",
        "    'price' : 100\n",
        "  }\n",
        "  if(current_price < min_price):\n",
        "    break\n",
        "  parameters_on_a_day['price'] = current_price\n",
        "  parameters_on_a_day['supply'] = current_supply\n",
        "  motivations = calculate_motivations(thresholds,current_price)\n",
        "  who_bought = pick_most_motivated_players(motivations,parameters_on_a_day['supply'])\n",
        "  parameters_on_a_day['sold'] = len(who_bought)\n",
        "  thresholds = np.delete(thresholds,who_bought)\n",
        "  parameters_on_a_day['revenue'] = parameters_on_a_day['price']*parameters_on_a_day['sold']\n",
        "  parameters.append(parameters_on_a_day)\n",
        "\n",
        "  revenues.append(len(who_bought) * current_price)\n",
        "  if(i != 0):\n",
        "    diff_bought = parameters[-1]['sold'] - parameters[-2]['sold']\n",
        "    diff_price = parameters[-1]['price'] - parameters[-2]['price']\n",
        "    if(diff_bought > 0):\n",
        "      if(diff_price <= 0):\n",
        "        current_supply = current_supply + change['supply']\n",
        "        current_price = current_price + change['price']\n",
        "    else:\n",
        "      if(diff_price > 0):\n",
        "        current_supply = current_supply - change['supply']\n",
        "        current_price = current_price - change['price']\n",
        "      else:\n",
        "        current_price = current_price - change['price']\n",
        "  else:\n",
        "    current_price = current_price - change['price']\n",
        "  \n",
        "\n",
        "revenues = np.array(revenues)\n",
        "total_revenue = np.sum(revenues)\n",
        "print(total_revenue)\n",
        "plt.plot(revenues)\n",
        "plt.show()"
      ],
      "execution_count": null,
      "outputs": [
        {
          "output_type": "stream",
          "text": [
            "43785.5\n"
          ],
          "name": "stdout"
        },
        {
          "output_type": "display_data",
          "data": {
            "image/png": "[encoded data removed]",
            "text/plain": [
              "<Figure size 432x288 with 1 Axes>"
            ]
          },
          "metadata": {
            "tags": []
          }
        }
      ]
    },
    {
      "cell_type": "code",
      "metadata": {
        "colab": {
          "base_uri": "https://localhost:8080/"
        },
        "id": "hT3ujThRnlCo",
        "outputId": "06e0c2bd-4561-472c-8e0a-cfef2501b4fe"
      },
      "source": [
        "thresholds"
      ],
      "execution_count": null,
      "outputs": [
        {
          "output_type": "execute_result",
          "data": {
            "text/plain": [
              "[{'price': 6, 'revenue': 600, 'sold': 100, 'supply': 100},\n",
              " {'price': 5.9, 'revenue': 590.0, 'sold': 100, 'supply': 100},\n",
              " {'price': 5.800000000000001,\n",
              "  'revenue': 580.0000000000001,\n",
              "  'sold': 100,\n",
              "  'supply': 100},\n",
              " {'price': 5.700000000000001,\n",
              "  'revenue': 570.0000000000001,\n",
              "  'sold': 100,\n",
              "  'supply': 100},\n",
              " {'price': 5.600000000000001,\n",
              "  'revenue': 560.0000000000001,\n",
              "  'sold': 100,\n",
              "  'supply': 100},\n",
              " {'price': 5.500000000000002,\n",
              "  'revenue': 550.0000000000002,\n",
              "  'sold': 100,\n",
              "  'supply': 100},\n",
              " {'price': 5.400000000000002,\n",
              "  'revenue': 540.0000000000002,\n",
              "  'sold': 100,\n",
              "  'supply': 100},\n",
              " {'price': 5.3000000000000025,\n",
              "  'revenue': 530.0000000000002,\n",
              "  'sold': 100,\n",
              "  'supply': 100},\n",
              " {'price': 5.200000000000003,\n",
              "  'revenue': 520.0000000000002,\n",
              "  'sold': 100,\n",
              "  'supply': 100},\n",
              " {'price': 5.100000000000003,\n",
              "  'revenue': 510.00000000000034,\n",
              "  'sold': 100,\n",
              "  'supply': 100},\n",
              " {'price': 5.0000000000000036,\n",
              "  'revenue': 500.00000000000034,\n",
              "  'sold': 100,\n",
              "  'supply': 100},\n",
              " {'price': 4.900000000000004,\n",
              "  'revenue': 490.0000000000004,\n",
              "  'sold': 100,\n",
              "  'supply': 100},\n",
              " {'price': 4.800000000000004,\n",
              "  'revenue': 480.00000000000045,\n",
              "  'sold': 100,\n",
              "  'supply': 100},\n",
              " {'price': 4.700000000000005,\n",
              "  'revenue': 470.00000000000045,\n",
              "  'sold': 100,\n",
              "  'supply': 100},\n",
              " {'price': 4.600000000000005,\n",
              "  'revenue': 460.0000000000005,\n",
              "  'sold': 100,\n",
              "  'supply': 100},\n",
              " {'price': 4.500000000000005,\n",
              "  'revenue': 450.0000000000005,\n",
              "  'sold': 100,\n",
              "  'supply': 100},\n",
              " {'price': 4.400000000000006,\n",
              "  'revenue': 440.00000000000057,\n",
              "  'sold': 100,\n",
              "  'supply': 100},\n",
              " {'price': 4.300000000000006,\n",
              "  'revenue': 430.0000000000006,\n",
              "  'sold': 100,\n",
              "  'supply': 100},\n",
              " {'price': 4.200000000000006,\n",
              "  'revenue': 420.0000000000006,\n",
              "  'sold': 100,\n",
              "  'supply': 100},\n",
              " {'price': 4.100000000000007,\n",
              "  'revenue': 410.0000000000007,\n",
              "  'sold': 100,\n",
              "  'supply': 100},\n",
              " {'price': 4.000000000000007,\n",
              "  'revenue': 400.0000000000007,\n",
              "  'sold': 100,\n",
              "  'supply': 100},\n",
              " {'price': 3.900000000000007,\n",
              "  'revenue': 390.0000000000007,\n",
              "  'sold': 100,\n",
              "  'supply': 100},\n",
              " {'price': 3.800000000000007,\n",
              "  'revenue': 380.0000000000007,\n",
              "  'sold': 100,\n",
              "  'supply': 100},\n",
              " {'price': 3.700000000000007,\n",
              "  'revenue': 370.0000000000007,\n",
              "  'sold': 100,\n",
              "  'supply': 100},\n",
              " {'price': 3.6000000000000068,\n",
              "  'revenue': 360.0000000000007,\n",
              "  'sold': 100,\n",
              "  'supply': 100},\n",
              " {'price': 3.5000000000000067,\n",
              "  'revenue': 350.0000000000007,\n",
              "  'sold': 100,\n",
              "  'supply': 100},\n",
              " {'price': 3.4000000000000066,\n",
              "  'revenue': 340.0000000000007,\n",
              "  'sold': 100,\n",
              "  'supply': 100},\n",
              " {'price': 3.3000000000000065,\n",
              "  'revenue': 330.0000000000006,\n",
              "  'sold': 100,\n",
              "  'supply': 100},\n",
              " {'price': 3.2000000000000064,\n",
              "  'revenue': 320.0000000000006,\n",
              "  'sold': 100,\n",
              "  'supply': 100},\n",
              " {'price': 3.1000000000000063,\n",
              "  'revenue': 310.0000000000006,\n",
              "  'sold': 100,\n",
              "  'supply': 100},\n",
              " {'price': 3.000000000000006,\n",
              "  'revenue': 300.0000000000006,\n",
              "  'sold': 100,\n",
              "  'supply': 100},\n",
              " {'price': 2.900000000000006,\n",
              "  'revenue': 290.0000000000006,\n",
              "  'sold': 100,\n",
              "  'supply': 100},\n",
              " {'price': 2.800000000000006,\n",
              "  'revenue': 280.0000000000006,\n",
              "  'sold': 100,\n",
              "  'supply': 100},\n",
              " {'price': 2.700000000000006,\n",
              "  'revenue': 270.00000000000057,\n",
              "  'sold': 100,\n",
              "  'supply': 100},\n",
              " {'price': 2.600000000000006,\n",
              "  'revenue': 260.00000000000057,\n",
              "  'sold': 100,\n",
              "  'supply': 100},\n",
              " {'price': 2.5000000000000058,\n",
              "  'revenue': 250.00000000000057,\n",
              "  'sold': 100,\n",
              "  'supply': 100},\n",
              " {'price': 2.4000000000000057,\n",
              "  'revenue': 240.00000000000057,\n",
              "  'sold': 100,\n",
              "  'supply': 100},\n",
              " {'price': 2.3000000000000056,\n",
              "  'revenue': 230.00000000000057,\n",
              "  'sold': 100,\n",
              "  'supply': 100},\n",
              " {'price': 2.2000000000000055,\n",
              "  'revenue': 220.00000000000054,\n",
              "  'sold': 100,\n",
              "  'supply': 100},\n",
              " {'price': 2.1000000000000054,\n",
              "  'revenue': 210.00000000000054,\n",
              "  'sold': 100,\n",
              "  'supply': 100},\n",
              " {'price': 2.0000000000000053,\n",
              "  'revenue': 200.00000000000054,\n",
              "  'sold': 100,\n",
              "  'supply': 100},\n",
              " {'price': 1.9000000000000052,\n",
              "  'revenue': 190.0000000000005,\n",
              "  'sold': 100,\n",
              "  'supply': 100},\n",
              " {'price': 1.8000000000000052,\n",
              "  'revenue': 180.0000000000005,\n",
              "  'sold': 100,\n",
              "  'supply': 100},\n",
              " {'price': 1.700000000000005,\n",
              "  'revenue': 170.0000000000005,\n",
              "  'sold': 100,\n",
              "  'supply': 100},\n",
              " {'price': 1.600000000000005,\n",
              "  'revenue': 160.0000000000005,\n",
              "  'sold': 100,\n",
              "  'supply': 100},\n",
              " {'price': 1.5000000000000049,\n",
              "  'revenue': 150.00000000000048,\n",
              "  'sold': 100,\n",
              "  'supply': 100},\n",
              " {'price': 1.4000000000000048,\n",
              "  'revenue': 140.00000000000048,\n",
              "  'sold': 100,\n",
              "  'supply': 100},\n",
              " {'price': 1.3000000000000047,\n",
              "  'revenue': 130.00000000000048,\n",
              "  'sold': 100,\n",
              "  'supply': 100},\n",
              " {'price': 1.2000000000000046,\n",
              "  'revenue': 120.00000000000045,\n",
              "  'sold': 100,\n",
              "  'supply': 100},\n",
              " {'price': 1.1000000000000045,\n",
              "  'revenue': 110.00000000000045,\n",
              "  'sold': 100,\n",
              "  'supply': 100},\n",
              " {'price': 1.0000000000000044,\n",
              "  'revenue': 100.00000000000044,\n",
              "  'sold': 100,\n",
              "  'supply': 100},\n",
              " {'price': 0.9000000000000045,\n",
              "  'revenue': 90.00000000000044,\n",
              "  'sold': 100,\n",
              "  'supply': 100},\n",
              " {'price': 0.8000000000000045,\n",
              "  'revenue': 80.00000000000045,\n",
              "  'sold': 100,\n",
              "  'supply': 100},\n",
              " {'price': 0.7000000000000045,\n",
              "  'revenue': 70.00000000000045,\n",
              "  'sold': 100,\n",
              "  'supply': 100},\n",
              " {'price': 0.6000000000000045,\n",
              "  'revenue': 60.000000000000455,\n",
              "  'sold': 100,\n",
              "  'supply': 100},\n",
              " {'price': 0.5000000000000046,\n",
              "  'revenue': 50.000000000000455,\n",
              "  'sold': 100,\n",
              "  'supply': 100},\n",
              " {'price': 0.4000000000000046,\n",
              "  'revenue': 40.000000000000455,\n",
              "  'sold': 100,\n",
              "  'supply': 100},\n",
              " {'price': 0.3000000000000046,\n",
              "  'revenue': 30.00000000000046,\n",
              "  'sold': 100,\n",
              "  'supply': 100}]"
            ]
          },
          "metadata": {
            "tags": []
          },
          "execution_count": 17
        }
      ]
    },
    {
      "cell_type": "code",
      "metadata": {
        "colab": {
          "base_uri": "https://localhost:8080/"
        },
        "id": "rQYwrJi8oV3i",
        "outputId": "a8004aac-c188-4719-e5e1-4ce730dda2de"
      },
      "source": [
        "max(thresholds)"
      ],
      "execution_count": null,
      "outputs": [
        {
          "output_type": "execute_result",
          "data": {
            "text/plain": [
              "5.8105504347189285"
            ]
          },
          "metadata": {
            "tags": []
          },
          "execution_count": 11
        }
      ]
    },
    {
      "cell_type": "code",
      "metadata": {
        "id": "JfGl3I3KohS9"
      },
      "source": [
        ""
      ],
      "execution_count": null,
      "outputs": []
    },
    {
      "cell_type": "markdown",
      "metadata": {
        "id": "tvgZ9E7s3vAI"
      },
      "source": [
        "MDP \n"
      ]
    },
    {
      "cell_type": "code",
      "metadata": {
        "id": "hsC36-n73wY4"
      },
      "source": [
        "import numpy as np"
      ],
      "execution_count": null,
      "outputs": []
    },
    {
      "cell_type": "code",
      "metadata": {
        "id": "vg1a2iu23yKO"
      },
      "source": [
        "N = 100 #Number of items \n",
        "K = 1000 #Number of users \n",
        "preferences = []\n",
        "for i in range(K):\n",
        "  preferences.append(np.random.gumbel(loc = 0, scale = 5,size = N))\n",
        "\n",
        "preferences = np.array(preferences) "
      ],
      "execution_count": null,
      "outputs": []
    },
    {
      "cell_type": "code",
      "metadata": {
        "id": "FIHJbWoZ4ZGt"
      },
      "source": [
        "def find_next_state(current_beta, current_price):\n",
        "  #current_price is V_i and current_beta is K*N matrix where i,j th elment is 1 if ith player buys jth object\n",
        "  new_beta = [[0]*N]*K\n",
        "\n",
        "  for i in range(K):\n",
        "    # utilities = np.array([])\n",
        "    utilities =  preferences[i] +current_price\n",
        "    index = np.argmax(utilities)\n",
        "    new_beta[i][index] = 1\n",
        "  return new_beta"
      ],
      "execution_count": null,
      "outputs": []
    },
    {
      "cell_type": "code",
      "metadata": {
        "colab": {
          "base_uri": "https://localhost:8080/"
        },
        "id": "6H5fuCAO6DlX",
        "outputId": "ddc53fd0-63bf-481c-b718-3418065c0298"
      },
      "source": [
        "[[0]*2]*3"
      ],
      "execution_count": null,
      "outputs": [
        {
          "output_type": "execute_result",
          "data": {
            "text/plain": [
              "[[0, 0], [0, 0], [0, 0]]"
            ]
          },
          "metadata": {
            "tags": []
          },
          "execution_count": 7
        }
      ]
    },
    {
      "cell_type": "code",
      "metadata": {
        "id": "Bya-j3RA6JeU"
      },
      "source": [
        "import numpy as np\n",
        "import itertools \n",
        "import math\n",
        "import copy\n",
        "class MDP():\n",
        "  def __init__(self,N,K,benefits):\n",
        "    self.num_users = K\n",
        "    self.num_items = N\n",
        "    preferences = []\n",
        "    for i in range(K):\n",
        "      preferences.append(np.random.gumbel(loc = 0, scale = 5,size = N))\n",
        "    self.preferences = np.array(preferences) \n",
        "    self.benefits = benefits\n",
        "    lamda_expo = 0.2 * np.log(20/11)\n",
        "# print(lamda_expo,1/lamda_expo)\n",
        "    thr = np.random.exponential(scale = 1/lamda_expo,size = self.num_users)\n",
        "    self.thresholds = thr\n",
        "\n",
        "\n",
        "  def get_pref(self):\n",
        "    return self.preferences\n",
        "\n",
        "  def find_state(self,current_price):\n",
        "    new_beta = [[0]*self.num_items]*self.num_users\n",
        "    for i in range(self.num_users):\n",
        "      # utilities = np.array([])\n",
        "      utilities =  self.preferences[i] +current_price\n",
        "      # index = np.argmax(utilities)\n",
        "      index = None\n",
        "      for j in range(len(utilities)):\n",
        "        if(self.benefits[j] - current_price[j] <= self.thresholds[j]):\n",
        "          if(index):\n",
        "            if(utilities[index] < utilities[j]):\n",
        "              index = j\n",
        "          else:\n",
        "            index = j\n",
        "      new_beta[i][index] = 1\n",
        "    return new_beta\n",
        "\n",
        "  def Pi(self,benefit, cost, i):\n",
        "    num = math.exp(benefit[i-1] - cost[i-1])\n",
        "    denom = np.sum(np.exp(np.array(benefit) - np.asarray(cost)))\n",
        "    return num/denom\n",
        "\n",
        "  def qi(self,beta_new_i, beta_i, benefit, cost, i) :\n",
        "    sigma = np.exp(-sum(np.square(beta_new_i - beta_i)))\n",
        "    P_i = self.Pi(benefit, cost, i)\n",
        "    return np.product(beta_new_i * P_i + (1 - beta_new_i) * (1 - P_i)) * sigma\n",
        "\n",
        "  def transition_probability(self,beta_new, beta, costs) :\n",
        "    prob = 1\n",
        "    benefits = self.benefits\n",
        "    beta_new = np.transpose(beta_new)\n",
        "    beta = np.transpose(beta)\n",
        "    for i in range(self.num_items):\n",
        "      prob = prob* self.qi(beta_new[i], beta[i], benefits, costs, i+1)\n",
        "    return prob\n",
        "\n",
        "  def compute_revenue(self,beta,current_price):\n",
        "    beta = np.transpose(beta)\n",
        "    sum = 0\n",
        "    for i in range(self.num_items):\n",
        "      sum = sum + (self.benefits[i] - current_price[i])*np.sum(beta[i])\n",
        "    return sum\n",
        "\n",
        "  def generate_actions(self):\n",
        "    N = self.num_items\n",
        "    # K = self.num_players\n",
        "    prices = [i+1 for i in range(10)]\n",
        "    return list(itertools.product(prices,repeat = N))\n",
        "  \n",
        "  def generate_states(self,beta):\n",
        "    N = len(beta[0])\n",
        "    K = len(beta)\n",
        "    ret = [beta]\n",
        "    for j in range(K):\n",
        "      for i in range(N):\n",
        "        ret.append(copy.deepcopy(beta))\n",
        "        ret[-1][j][i] = 1 - ret[-1][j][i]\n",
        "    return ret\n",
        "\n",
        "\n",
        "  def get_max(self,actions,values,states,state_id):\n",
        "    q_s_a = []\n",
        "    for i in range(len(actions)):\n",
        "      val = self.compute_revenue(states[state_id],actions[i])\n",
        "      instant_reward = self.compute_revenue(states[state_id],actions[i])\n",
        "      TPM = []\n",
        "\n",
        "      for s in range(len(states)):\n",
        "        TPM.append(self.transition_probability(states[s],states[state_id],actions[i]))\n",
        "      TPM = np.array(TPM)\n",
        "      TPM = TPM / np.sum(TPM)\n",
        "      # print(TPM)\n",
        "      \n",
        "      val = val + 0.65* np.sum(TPM*np.array(values))\n",
        "      q_s_a.append(val)\n",
        "    q_s_a = np.array(q_s_a)\n",
        "    return q_s_a[np.argmax(q_s_a)],np.argmax(q_s_a) \n",
        "\n",
        "  def value_iteration(self,price,beta):\n",
        "    K = self.num_users\n",
        "    N = self.num_items\n",
        "    states = self.generate_states(beta)\n",
        "    all_actions = self.generate_actions()\n",
        "    value_funs = [0]*len(states)\n",
        "    optimal_actions = [[]]*len(states)\n",
        "    value_funs_new = [0]*len(states)\n",
        "    print('Running Value Iteration...')\n",
        "    for i in range(15):\n",
        "      print('Iteration : ',i)\n",
        "      for s in range(len(states)):\n",
        "        value_funs_new[s],optimal_actions[s] = self.get_max(all_actions,value_funs,states,s) \n",
        "      value_funs = copy.deepcopy(value_funs_new)\n",
        "      print(value_funs)\n",
        "      value_funs_new = [0]*len(states)\n",
        "    return all_actions[optimal_actions[0]]\n",
        "\n",
        "  def run_simulation(self,num_days):\n",
        "    revenues = []\n",
        "    start_price = [5]*self.num_items\n",
        "    for i in range(num_days):\n",
        "      print(start_price)\n",
        "      state = self.find_state(current_price = start_price)\n",
        "      revenues.append(self.compute_revenue(state,start_price))\n",
        "      start_price = self.value_iteration(start_price,state)\n",
        "      print(start_price)\n",
        "      print(revenues[-1])\n",
        "    return revenues  "
      ],
      "execution_count": null,
      "outputs": []
    },
    {
      "cell_type": "code",
      "metadata": {
        "id": "Nl_MQlLdyrdr"
      },
      "source": [
        "model = MDP(N = 3,K = 4,benefits = [10,11,12])"
      ],
      "execution_count": null,
      "outputs": []
    },
    {
      "cell_type": "code",
      "metadata": {
        "colab": {
          "base_uri": "https://localhost:8080/"
        },
        "id": "HgEvxakD9F3O",
        "outputId": "8463ce41-71ef-4baf-f017-8ccec50126fd"
      },
      "source": [
        "N = 3\n",
        "K = 4\n",
        "model.run_simulation(10)"
      ],
      "execution_count": null,
      "outputs": [
        {
          "output_type": "stream",
          "text": [
            "[5, 5, 5]\n",
            "Running Value Iteration...\n",
            "Iteration :  0\n",
            "[36.0, 0.0, 76.0, 80.0, 0.0, 76.0, 80.0, 0.0, 76.0, 80.0, 0.0, 76.0, 80.0]\n",
            "Iteration :  1\n",
            "[61.97430096607624, 23.399999987630622, 125.38116475183567, 131.98249127125808, 23.399999987630622, 125.38116475183567, 131.98249127125808, 23.399999987630622, 125.38116475183567, 131.98249127125808, 23.399999987630622, 125.38116475183567, 131.98249127125808]\n",
            "Iteration :  2\n",
            "[86.44914520368954, 40.28329561469644, 157.4719506091306, 165.7648447769583, 40.28329561469644, 157.4719506091306, 165.7648447769583, 40.28329561469644, 157.4719506091306, 165.7648447769583, 40.28329561469644, 157.4719506091306, 165.7648447769583]\n",
            "Iteration :  3\n",
            "[102.91003319993933, 56.19194436653667, 178.32721372968524, 187.7196760298884, 56.19194436653667, 178.32721372968524, 187.7196760298884, 56.19194436653667, 178.32721372968524, 187.7196760298884, 56.19194436653667, 178.32721372968524, 187.7196760298884]\n",
            "Iteration :  4\n",
            "[115.21050033930388, 66.89152156390946, 191.88181088592344, 201.988990914853, 66.89152156390946, 191.88181088592344, 201.988990914853, 66.89152156390946, 191.88181088592344, 201.988990914853, 66.89152156390946, 191.88181088592344, 201.988990914853]\n",
            "Iteration :  5\n",
            "[123.32423537196848, 74.88682520394634, 200.6916050623775, 211.2632643149804, 74.88682520394634, 200.6916050623775, 211.2632643149804, 74.88682520394634, 200.6916050623775, 211.2632643149804, 74.88682520394634, 200.6916050623775, 211.2632643149804]\n",
            "Iteration :  6\n",
            "[128.93575797876383, 80.16075297513765, 206.41775479740897, 217.2912616540328, 80.16075297513765, 206.41775479740897, 217.2912616540328, 80.16075297513765, 206.41775479740897, 217.2912616540328, 80.16075297513765, 206.41775479740897, 217.2912616540328]\n",
            "Iteration :  7\n",
            "[132.6086388241413, 83.8082426694387, 210.13964679774915, 221.20929488768746, 83.8082426694387, 210.13964679774915, 221.20929488768746, 83.8082426694387, 210.13964679774915, 221.20929488768746, 83.8082426694387, 210.13964679774915, 221.20929488768746]\n",
            "Iteration :  8\n",
            "[135.06720372368628, 86.19561521892533, 212.55885761988608, 223.75595718234567, 86.19561521892533, 212.55885761988608, 223.75595718234567, 86.19561521892533, 212.55885761988608, 223.75595718234567, 86.19561521892533, 212.55885761988608, 223.75595718234567]\n",
            "Iteration :  9\n",
            "[136.67071315309843, 87.79368240360503, 214.13133983236915, 225.411252811374, 87.79368240360503, 214.13133983236915, 225.411252811374, 87.79368240360503, 214.13133983236915, 225.411252811374, 87.79368240360503, 214.13133983236915, 225.411252811374]\n",
            "Iteration :  10\n",
            "[137.72800751013585, 88.83596353272108, 215.15346057167667, 226.48718242497694, 88.83596353272108, 215.15346057167667, 226.48718242497694, 88.83596353272108, 215.15346057167667, 226.48718242497694, 88.83596353272108, 215.15346057167667, 226.48718242497694]\n",
            "Iteration :  11\n",
            "[138.41641500131607, 89.52320486479027, 215.81784539193396, 227.18652930941292, 89.52320486479027, 215.81784539193396, 227.18652930941292, 89.52320486479027, 215.81784539193396, 227.18652930941292, 89.52320486479027, 215.81784539193396, 227.18652930941292]\n",
            "Iteration :  12\n",
            "[138.86704592253662, 89.97066973405697, 216.2497018455593, 227.641102130607, 89.97066973405697, 216.2497018455593, 227.641102130607, 89.97066973405697, 216.2497018455593, 227.641102130607, 89.97066973405697, 216.2497018455593, 227.641102130607]\n",
            "Iteration :  13\n",
            "[139.16020584027126, 90.26357983284927, 216.5304129861704, 227.93657290871062, 90.26357983284927, 216.5304129861704, 227.93657290871062, 90.26357983284927, 216.5304129861704, 227.93657290871062, 90.26357983284927, 216.5304129861704, 227.93657290871062]\n",
            "Iteration :  14\n",
            "[139.35142746193588, 90.4541337793767, 216.7128785805411, 228.128628353148, 90.4541337793767, 216.7128785805411, 228.128628353148, 90.4541337793767, 216.7128785805411, 228.128628353148, 90.4541337793767, 216.7128785805411, 228.128628353148]\n",
            "(1, 10, 1)\n",
            "20\n",
            "(1, 10, 1)\n",
            "Running Value Iteration...\n",
            "Iteration :  0\n",
            "[40.0, 76.0, 0.0, 84.0, 76.0, 0.0, 84.0, 76.0, 0.0, 84.0, 76.0, 0.0, 84.0]\n",
            "Iteration :  1\n",
            "[67.15253426407095, 121.27637891588687, 25.999999999880558, 138.57928888356065, 121.27637891588687, 25.999999999880558, 138.57928888356065, 121.27637891588687, 25.999999999880558, 138.57928888356065, 121.27637891588687, 25.999999999880558, 138.57928888356065]\n",
            "Iteration :  2\n",
            "[92.39093803511042, 150.6479389288373, 43.64914727152323, 174.04810123843188, 150.6479389288373, 43.64914727152323, 174.04810123843188, 150.6479389288373, 43.64914727152323, 174.04810123843188, 150.6479389288373, 43.64914727152323, 174.04810123843188]\n",
            "Iteration :  3\n",
            "[109.55825574185604, 169.7246049951429, 60.054109722676245, 197.0983867882543, 169.7246049951429, 60.054109722676245, 197.0983867882543, 169.7246049951429, 60.054109722676245, 197.0983867882543, 169.7246049951429, 60.054109722676245, 197.0983867882543]\n",
            "Iteration :  4\n",
            "[122.19605246499171, 182.11817845600564, 71.21286623205864, 212.07930300580932, 182.11817845600564, 71.21286623205864, 212.07930300580932, 182.11817845600564, 71.21286623205864, 212.07930300580932, 182.11817845600564, 71.21286623205864, 212.07930300580932]\n",
            "Iteration :  5\n",
            "[130.66010450738793, 190.17445726687734, 79.42743410209238, 221.81593756568714, 190.17445726687734, 79.42743410209238, 221.81593756568714, 190.17445726687734, 79.42743410209238, 221.81593756568714, 190.17445726687734, 79.42743410209238, 221.81593756568714]\n",
            "Iteration :  6\n",
            "[136.45724358264064, 195.41228519572886, 84.9290679296492, 228.14434884322625, 195.41228519572886, 84.9290679296492, 228.14434884322625, 195.41228519572886, 84.9290679296492, 228.14434884322625, 195.41228519572886, 84.9290679296492, 228.14434884322625]\n",
            "Iteration :  7\n",
            "[140.29346433599332, 198.8185935599346, 88.69720832856257, 232.2576069708465, 198.8185935599346, 88.69720832856257, 232.2576069708465, 198.8185935599346, 88.69720832856257, 232.2576069708465, 198.8185935599346, 88.69720832856257, 232.2576069708465]\n",
            "Iteration :  8\n",
            "[142.84736041920132, 201.0340509950553, 91.1907518182416, 234.93113441503806, 201.0340509950553, 91.1907518182416, 234.93113441503806, 201.0340509950553, 91.1907518182416, 234.93113441503806, 201.0340509950553, 91.1907518182416, 234.93113441503806]\n",
            "Iteration :  9\n",
            "[144.52451128352337, 202.47516511661559, 92.85078427232662, 236.6688814949663, 202.47516511661559, 92.85078427232662, 236.6688814949663, 202.47516511661559, 92.85078427232662, 236.6688814949663, 202.47516511661559, 92.85078427232662, 236.6688814949663]\n",
            "Iteration :  10\n",
            "[145.6272167317233, 203.41263876279262, 93.94093233413594, 237.79839685161014, 203.41263876279262, 93.94093233413594, 237.79839685161014, 203.41263876279262, 93.94093233413594, 237.79839685161014, 203.41263876279262, 93.94093233413594, 237.79839685161014]\n",
            "Iteration :  11\n",
            "[146.34809122955866, 204.0225211536627, 94.65769087546585, 238.53257178969687, 204.0225211536627, 94.65769087546585, 238.53257178969687, 204.0225211536627, 94.65769087546585, 238.53257178969687, 204.0225211536627, 94.65769087546585, 238.53257178969687]\n",
            "Iteration :  12\n",
            "[146.8193123066364, 204.41929799119248, 95.12625929905883, 239.0097809775745, 204.41929799119248, 95.12625929905883, 239.0097809775745, 204.41929799119248, 95.12625929905883, 239.0097809775745, 204.41929799119248, 95.12625929905883, 239.0097809775745]\n",
            "Iteration :  13\n",
            "[147.1265692671195, 204.67743991224438, 95.43255299915937, 239.31996473954183, 204.67743991224438, 95.43255299915937, 239.31996473954183, 204.67743991224438, 95.43255299915937, 239.31996473954183, 204.67743991224438, 95.43255299915937, 239.31996473954183]\n",
            "Iteration :  14\n",
            "[147.3268533934481, 204.84538867969707, 95.63227002347337, 239.52158317722498, 204.84538867969707, 95.63227002347337, 239.52158317722498, 204.84538867969707, 95.63227002347337, 239.52158317722498, 204.84538867969707, 95.63227002347337, 239.52158317722498]\n",
            "(10, 1, 1)\n",
            "4\n",
            "(10, 1, 1)\n",
            "Running Value Iteration...\n",
            "Iteration :  0\n",
            "[36.0, 0.0, 76.0, 80.0, 0.0, 76.0, 80.0, 0.0, 76.0, 80.0, 0.0, 76.0, 80.0]\n",
            "Iteration :  1\n",
            "[61.97430096607624, 23.399999987630622, 125.38116475183567, 131.98249127125808, 23.399999987630622, 125.38116475183567, 131.98249127125808, 23.399999987630622, 125.38116475183567, 131.98249127125808, 23.399999987630622, 125.38116475183567, 131.98249127125808]\n",
            "Iteration :  2\n",
            "[86.44914520368954, 40.28329561469644, 157.4719506091306, 165.7648447769583, 40.28329561469644, 157.4719506091306, 165.7648447769583, 40.28329561469644, 157.4719506091306, 165.7648447769583, 40.28329561469644, 157.4719506091306, 165.7648447769583]\n",
            "Iteration :  3\n",
            "[102.91003319993933, 56.19194436653667, 178.32721372968524, 187.7196760298884, 56.19194436653667, 178.32721372968524, 187.7196760298884, 56.19194436653667, 178.32721372968524, 187.7196760298884, 56.19194436653667, 178.32721372968524, 187.7196760298884]\n",
            "Iteration :  4\n",
            "[115.21050033930388, 66.89152156390946, 191.88181088592344, 201.988990914853, 66.89152156390946, 191.88181088592344, 201.988990914853, 66.89152156390946, 191.88181088592344, 201.988990914853, 66.89152156390946, 191.88181088592344, 201.988990914853]\n",
            "Iteration :  5\n",
            "[123.32423537196848, 74.88682520394634, 200.6916050623775, 211.2632643149804, 74.88682520394634, 200.6916050623775, 211.2632643149804, 74.88682520394634, 200.6916050623775, 211.2632643149804, 74.88682520394634, 200.6916050623775, 211.2632643149804]\n",
            "Iteration :  6\n",
            "[128.93575797876383, 80.16075297513765, 206.41775479740897, 217.2912616540328, 80.16075297513765, 206.41775479740897, 217.2912616540328, 80.16075297513765, 206.41775479740897, 217.2912616540328, 80.16075297513765, 206.41775479740897, 217.2912616540328]\n",
            "Iteration :  7\n",
            "[132.6086388241413, 83.8082426694387, 210.13964679774915, 221.20929488768746, 83.8082426694387, 210.13964679774915, 221.20929488768746, 83.8082426694387, 210.13964679774915, 221.20929488768746, 83.8082426694387, 210.13964679774915, 221.20929488768746]\n",
            "Iteration :  8\n",
            "[135.06720372368628, 86.19561521892533, 212.55885761988608, 223.75595718234567, 86.19561521892533, 212.55885761988608, 223.75595718234567, 86.19561521892533, 212.55885761988608, 223.75595718234567, 86.19561521892533, 212.55885761988608, 223.75595718234567]\n",
            "Iteration :  9\n",
            "[136.67071315309843, 87.79368240360503, 214.13133983236915, 225.411252811374, 87.79368240360503, 214.13133983236915, 225.411252811374, 87.79368240360503, 214.13133983236915, 225.411252811374, 87.79368240360503, 214.13133983236915, 225.411252811374]\n",
            "Iteration :  10\n",
            "[137.72800751013585, 88.83596353272108, 215.15346057167667, 226.48718242497694, 88.83596353272108, 215.15346057167667, 226.48718242497694, 88.83596353272108, 215.15346057167667, 226.48718242497694, 88.83596353272108, 215.15346057167667, 226.48718242497694]\n",
            "Iteration :  11\n",
            "[138.41641500131607, 89.52320486479027, 215.81784539193396, 227.18652930941292, 89.52320486479027, 215.81784539193396, 227.18652930941292, 89.52320486479027, 215.81784539193396, 227.18652930941292, 89.52320486479027, 215.81784539193396, 227.18652930941292]\n",
            "Iteration :  12\n",
            "[138.86704592253662, 89.97066973405697, 216.2497018455593, 227.641102130607, 89.97066973405697, 216.2497018455593, 227.641102130607, 89.97066973405697, 216.2497018455593, 227.641102130607, 89.97066973405697, 216.2497018455593, 227.641102130607]\n",
            "Iteration :  13\n",
            "[139.16020584027126, 90.26357983284927, 216.5304129861704, 227.93657290871062, 90.26357983284927, 216.5304129861704, 227.93657290871062, 90.26357983284927, 216.5304129861704, 227.93657290871062, 90.26357983284927, 216.5304129861704, 227.93657290871062]\n",
            "Iteration :  14\n",
            "[139.35142746193588, 90.4541337793767, 216.7128785805411, 228.128628353148, 90.4541337793767, 216.7128785805411, 228.128628353148, 90.4541337793767, 216.7128785805411, 228.128628353148, 90.4541337793767, 216.7128785805411, 228.128628353148]\n",
            "(1, 10, 1)\n",
            "0\n",
            "(1, 10, 1)\n",
            "Running Value Iteration...\n",
            "Iteration :  0\n",
            "[40.0, 76.0, 0.0, 84.0, 76.0, 0.0, 84.0, 76.0, 0.0, 84.0, 76.0, 0.0, 84.0]\n",
            "Iteration :  1\n",
            "[67.15253426407095, 121.27637891588687, 25.999999999880558, 138.57928888356065, 121.27637891588687, 25.999999999880558, 138.57928888356065, 121.27637891588687, 25.999999999880558, 138.57928888356065, 121.27637891588687, 25.999999999880558, 138.57928888356065]\n",
            "Iteration :  2\n",
            "[92.39093803511042, 150.6479389288373, 43.64914727152323, 174.04810123843188, 150.6479389288373, 43.64914727152323, 174.04810123843188, 150.6479389288373, 43.64914727152323, 174.04810123843188, 150.6479389288373, 43.64914727152323, 174.04810123843188]\n",
            "Iteration :  3\n",
            "[109.55825574185604, 169.7246049951429, 60.054109722676245, 197.0983867882543, 169.7246049951429, 60.054109722676245, 197.0983867882543, 169.7246049951429, 60.054109722676245, 197.0983867882543, 169.7246049951429, 60.054109722676245, 197.0983867882543]\n",
            "Iteration :  4\n",
            "[122.19605246499171, 182.11817845600564, 71.21286623205864, 212.07930300580932, 182.11817845600564, 71.21286623205864, 212.07930300580932, 182.11817845600564, 71.21286623205864, 212.07930300580932, 182.11817845600564, 71.21286623205864, 212.07930300580932]\n",
            "Iteration :  5\n",
            "[130.66010450738793, 190.17445726687734, 79.42743410209238, 221.81593756568714, 190.17445726687734, 79.42743410209238, 221.81593756568714, 190.17445726687734, 79.42743410209238, 221.81593756568714, 190.17445726687734, 79.42743410209238, 221.81593756568714]\n",
            "Iteration :  6\n",
            "[136.45724358264064, 195.41228519572886, 84.9290679296492, 228.14434884322625, 195.41228519572886, 84.9290679296492, 228.14434884322625, 195.41228519572886, 84.9290679296492, 228.14434884322625, 195.41228519572886, 84.9290679296492, 228.14434884322625]\n",
            "Iteration :  7\n",
            "[140.29346433599332, 198.8185935599346, 88.69720832856257, 232.2576069708465, 198.8185935599346, 88.69720832856257, 232.2576069708465, 198.8185935599346, 88.69720832856257, 232.2576069708465, 198.8185935599346, 88.69720832856257, 232.2576069708465]\n",
            "Iteration :  8\n",
            "[142.84736041920132, 201.0340509950553, 91.1907518182416, 234.93113441503806, 201.0340509950553, 91.1907518182416, 234.93113441503806, 201.0340509950553, 91.1907518182416, 234.93113441503806, 201.0340509950553, 91.1907518182416, 234.93113441503806]\n",
            "Iteration :  9\n",
            "[144.52451128352337, 202.47516511661559, 92.85078427232662, 236.6688814949663, 202.47516511661559, 92.85078427232662, 236.6688814949663, 202.47516511661559, 92.85078427232662, 236.6688814949663, 202.47516511661559, 92.85078427232662, 236.6688814949663]\n",
            "Iteration :  10\n",
            "[145.6272167317233, 203.41263876279262, 93.94093233413594, 237.79839685161014, 203.41263876279262, 93.94093233413594, 237.79839685161014, 203.41263876279262, 93.94093233413594, 237.79839685161014, 203.41263876279262, 93.94093233413594, 237.79839685161014]\n",
            "Iteration :  11\n",
            "[146.34809122955866, 204.0225211536627, 94.65769087546585, 238.53257178969687, 204.0225211536627, 94.65769087546585, 238.53257178969687, 204.0225211536627, 94.65769087546585, 238.53257178969687, 204.0225211536627, 94.65769087546585, 238.53257178969687]\n",
            "Iteration :  12\n",
            "[146.8193123066364, 204.41929799119248, 95.12625929905883, 239.0097809775745, 204.41929799119248, 95.12625929905883, 239.0097809775745, 204.41929799119248, 95.12625929905883, 239.0097809775745, 204.41929799119248, 95.12625929905883, 239.0097809775745]\n",
            "Iteration :  13\n",
            "[147.1265692671195, 204.67743991224438, 95.43255299915937, 239.31996473954183, 204.67743991224438, 95.43255299915937, 239.31996473954183, 204.67743991224438, 95.43255299915937, 239.31996473954183, 204.67743991224438, 95.43255299915937, 239.31996473954183]\n",
            "Iteration :  14\n",
            "[147.3268533934481, 204.84538867969707, 95.63227002347337, 239.52158317722498, 204.84538867969707, 95.63227002347337, 239.52158317722498, 204.84538867969707, 95.63227002347337, 239.52158317722498, 204.84538867969707, 95.63227002347337, 239.52158317722498]\n",
            "(10, 1, 1)\n",
            "4\n",
            "(10, 1, 1)\n",
            "Running Value Iteration...\n",
            "Iteration :  0\n",
            "[36.0, 0.0, 76.0, 80.0, 0.0, 76.0, 80.0, 0.0, 76.0, 80.0, 0.0, 76.0, 80.0]\n",
            "Iteration :  1\n",
            "[61.97430096607624, 23.399999987630622, 125.38116475183567, 131.98249127125808, 23.399999987630622, 125.38116475183567, 131.98249127125808, 23.399999987630622, 125.38116475183567, 131.98249127125808, 23.399999987630622, 125.38116475183567, 131.98249127125808]\n",
            "Iteration :  2\n",
            "[86.44914520368954, 40.28329561469644, 157.4719506091306, 165.7648447769583, 40.28329561469644, 157.4719506091306, 165.7648447769583, 40.28329561469644, 157.4719506091306, 165.7648447769583, 40.28329561469644, 157.4719506091306, 165.7648447769583]\n",
            "Iteration :  3\n",
            "[102.91003319993933, 56.19194436653667, 178.32721372968524, 187.7196760298884, 56.19194436653667, 178.32721372968524, 187.7196760298884, 56.19194436653667, 178.32721372968524, 187.7196760298884, 56.19194436653667, 178.32721372968524, 187.7196760298884]\n",
            "Iteration :  4\n",
            "[115.21050033930388, 66.89152156390946, 191.88181088592344, 201.988990914853, 66.89152156390946, 191.88181088592344, 201.988990914853, 66.89152156390946, 191.88181088592344, 201.988990914853, 66.89152156390946, 191.88181088592344, 201.988990914853]\n",
            "Iteration :  5\n",
            "[123.32423537196848, 74.88682520394634, 200.6916050623775, 211.2632643149804, 74.88682520394634, 200.6916050623775, 211.2632643149804, 74.88682520394634, 200.6916050623775, 211.2632643149804, 74.88682520394634, 200.6916050623775, 211.2632643149804]\n",
            "Iteration :  6\n",
            "[128.93575797876383, 80.16075297513765, 206.41775479740897, 217.2912616540328, 80.16075297513765, 206.41775479740897, 217.2912616540328, 80.16075297513765, 206.41775479740897, 217.2912616540328, 80.16075297513765, 206.41775479740897, 217.2912616540328]\n",
            "Iteration :  7\n",
            "[132.6086388241413, 83.8082426694387, 210.13964679774915, 221.20929488768746, 83.8082426694387, 210.13964679774915, 221.20929488768746, 83.8082426694387, 210.13964679774915, 221.20929488768746, 83.8082426694387, 210.13964679774915, 221.20929488768746]\n",
            "Iteration :  8\n",
            "[135.06720372368628, 86.19561521892533, 212.55885761988608, 223.75595718234567, 86.19561521892533, 212.55885761988608, 223.75595718234567, 86.19561521892533, 212.55885761988608, 223.75595718234567, 86.19561521892533, 212.55885761988608, 223.75595718234567]\n",
            "Iteration :  9\n",
            "[136.67071315309843, 87.79368240360503, 214.13133983236915, 225.411252811374, 87.79368240360503, 214.13133983236915, 225.411252811374, 87.79368240360503, 214.13133983236915, 225.411252811374, 87.79368240360503, 214.13133983236915, 225.411252811374]\n",
            "Iteration :  10\n",
            "[137.72800751013585, 88.83596353272108, 215.15346057167667, 226.48718242497694, 88.83596353272108, 215.15346057167667, 226.48718242497694, 88.83596353272108, 215.15346057167667, 226.48718242497694, 88.83596353272108, 215.15346057167667, 226.48718242497694]\n",
            "Iteration :  11\n",
            "[138.41641500131607, 89.52320486479027, 215.81784539193396, 227.18652930941292, 89.52320486479027, 215.81784539193396, 227.18652930941292, 89.52320486479027, 215.81784539193396, 227.18652930941292, 89.52320486479027, 215.81784539193396, 227.18652930941292]\n",
            "Iteration :  12\n",
            "[138.86704592253662, 89.97066973405697, 216.2497018455593, 227.641102130607, 89.97066973405697, 216.2497018455593, 227.641102130607, 89.97066973405697, 216.2497018455593, 227.641102130607, 89.97066973405697, 216.2497018455593, 227.641102130607]\n",
            "Iteration :  13\n",
            "[139.16020584027126, 90.26357983284927, 216.5304129861704, 227.93657290871062, 90.26357983284927, 216.5304129861704, 227.93657290871062, 90.26357983284927, 216.5304129861704, 227.93657290871062, 90.26357983284927, 216.5304129861704, 227.93657290871062]\n",
            "Iteration :  14\n",
            "[139.35142746193588, 90.4541337793767, 216.7128785805411, 228.128628353148, 90.4541337793767, 216.7128785805411, 228.128628353148, 90.4541337793767, 216.7128785805411, 228.128628353148, 90.4541337793767, 216.7128785805411, 228.128628353148]\n",
            "(1, 10, 1)\n",
            "0\n",
            "(1, 10, 1)\n",
            "Running Value Iteration...\n",
            "Iteration :  0\n",
            "[40.0, 76.0, 0.0, 84.0, 76.0, 0.0, 84.0, 76.0, 0.0, 84.0, 76.0, 0.0, 84.0]\n",
            "Iteration :  1\n",
            "[67.15253426407095, 121.27637891588687, 25.999999999880558, 138.57928888356065, 121.27637891588687, 25.999999999880558, 138.57928888356065, 121.27637891588687, 25.999999999880558, 138.57928888356065, 121.27637891588687, 25.999999999880558, 138.57928888356065]\n",
            "Iteration :  2\n",
            "[92.39093803511042, 150.6479389288373, 43.64914727152323, 174.04810123843188, 150.6479389288373, 43.64914727152323, 174.04810123843188, 150.6479389288373, 43.64914727152323, 174.04810123843188, 150.6479389288373, 43.64914727152323, 174.04810123843188]\n",
            "Iteration :  3\n",
            "[109.55825574185604, 169.7246049951429, 60.054109722676245, 197.0983867882543, 169.7246049951429, 60.054109722676245, 197.0983867882543, 169.7246049951429, 60.054109722676245, 197.0983867882543, 169.7246049951429, 60.054109722676245, 197.0983867882543]\n",
            "Iteration :  4\n",
            "[122.19605246499171, 182.11817845600564, 71.21286623205864, 212.07930300580932, 182.11817845600564, 71.21286623205864, 212.07930300580932, 182.11817845600564, 71.21286623205864, 212.07930300580932, 182.11817845600564, 71.21286623205864, 212.07930300580932]\n",
            "Iteration :  5\n",
            "[130.66010450738793, 190.17445726687734, 79.42743410209238, 221.81593756568714, 190.17445726687734, 79.42743410209238, 221.81593756568714, 190.17445726687734, 79.42743410209238, 221.81593756568714, 190.17445726687734, 79.42743410209238, 221.81593756568714]\n",
            "Iteration :  6\n",
            "[136.45724358264064, 195.41228519572886, 84.9290679296492, 228.14434884322625, 195.41228519572886, 84.9290679296492, 228.14434884322625, 195.41228519572886, 84.9290679296492, 228.14434884322625, 195.41228519572886, 84.9290679296492, 228.14434884322625]\n",
            "Iteration :  7\n",
            "[140.29346433599332, 198.8185935599346, 88.69720832856257, 232.2576069708465, 198.8185935599346, 88.69720832856257, 232.2576069708465, 198.8185935599346, 88.69720832856257, 232.2576069708465, 198.8185935599346, 88.69720832856257, 232.2576069708465]\n",
            "Iteration :  8\n",
            "[142.84736041920132, 201.0340509950553, 91.1907518182416, 234.93113441503806, 201.0340509950553, 91.1907518182416, 234.93113441503806, 201.0340509950553, 91.1907518182416, 234.93113441503806, 201.0340509950553, 91.1907518182416, 234.93113441503806]\n",
            "Iteration :  9\n",
            "[144.52451128352337, 202.47516511661559, 92.85078427232662, 236.6688814949663, 202.47516511661559, 92.85078427232662, 236.6688814949663, 202.47516511661559, 92.85078427232662, 236.6688814949663, 202.47516511661559, 92.85078427232662, 236.6688814949663]\n",
            "Iteration :  10\n",
            "[145.6272167317233, 203.41263876279262, 93.94093233413594, 237.79839685161014, 203.41263876279262, 93.94093233413594, 237.79839685161014, 203.41263876279262, 93.94093233413594, 237.79839685161014, 203.41263876279262, 93.94093233413594, 237.79839685161014]\n",
            "Iteration :  11\n",
            "[146.34809122955866, 204.0225211536627, 94.65769087546585, 238.53257178969687, 204.0225211536627, 94.65769087546585, 238.53257178969687, 204.0225211536627, 94.65769087546585, 238.53257178969687, 204.0225211536627, 94.65769087546585, 238.53257178969687]\n",
            "Iteration :  12\n",
            "[146.8193123066364, 204.41929799119248, 95.12625929905883, 239.0097809775745, 204.41929799119248, 95.12625929905883, 239.0097809775745, 204.41929799119248, 95.12625929905883, 239.0097809775745, 204.41929799119248, 95.12625929905883, 239.0097809775745]\n",
            "Iteration :  13\n",
            "[147.1265692671195, 204.67743991224438, 95.43255299915937, 239.31996473954183, 204.67743991224438, 95.43255299915937, 239.31996473954183, 204.67743991224438, 95.43255299915937, 239.31996473954183, 204.67743991224438, 95.43255299915937, 239.31996473954183]\n",
            "Iteration :  14\n",
            "[147.3268533934481, 204.84538867969707, 95.63227002347337, 239.52158317722498, 204.84538867969707, 95.63227002347337, 239.52158317722498, 204.84538867969707, 95.63227002347337, 239.52158317722498, 204.84538867969707, 95.63227002347337, 239.52158317722498]\n",
            "(10, 1, 1)\n",
            "4\n",
            "(10, 1, 1)\n",
            "Running Value Iteration...\n",
            "Iteration :  0\n",
            "[36.0, 0.0, 76.0, 80.0, 0.0, 76.0, 80.0, 0.0, 76.0, 80.0, 0.0, 76.0, 80.0]\n",
            "Iteration :  1\n",
            "[61.97430096607624, 23.399999987630622, 125.38116475183567, 131.98249127125808, 23.399999987630622, 125.38116475183567, 131.98249127125808, 23.399999987630622, 125.38116475183567, 131.98249127125808, 23.399999987630622, 125.38116475183567, 131.98249127125808]\n",
            "Iteration :  2\n",
            "[86.44914520368954, 40.28329561469644, 157.4719506091306, 165.7648447769583, 40.28329561469644, 157.4719506091306, 165.7648447769583, 40.28329561469644, 157.4719506091306, 165.7648447769583, 40.28329561469644, 157.4719506091306, 165.7648447769583]\n",
            "Iteration :  3\n",
            "[102.91003319993933, 56.19194436653667, 178.32721372968524, 187.7196760298884, 56.19194436653667, 178.32721372968524, 187.7196760298884, 56.19194436653667, 178.32721372968524, 187.7196760298884, 56.19194436653667, 178.32721372968524, 187.7196760298884]\n",
            "Iteration :  4\n",
            "[115.21050033930388, 66.89152156390946, 191.88181088592344, 201.988990914853, 66.89152156390946, 191.88181088592344, 201.988990914853, 66.89152156390946, 191.88181088592344, 201.988990914853, 66.89152156390946, 191.88181088592344, 201.988990914853]\n",
            "Iteration :  5\n",
            "[123.32423537196848, 74.88682520394634, 200.6916050623775, 211.2632643149804, 74.88682520394634, 200.6916050623775, 211.2632643149804, 74.88682520394634, 200.6916050623775, 211.2632643149804, 74.88682520394634, 200.6916050623775, 211.2632643149804]\n",
            "Iteration :  6\n",
            "[128.93575797876383, 80.16075297513765, 206.41775479740897, 217.2912616540328, 80.16075297513765, 206.41775479740897, 217.2912616540328, 80.16075297513765, 206.41775479740897, 217.2912616540328, 80.16075297513765, 206.41775479740897, 217.2912616540328]\n",
            "Iteration :  7\n",
            "[132.6086388241413, 83.8082426694387, 210.13964679774915, 221.20929488768746, 83.8082426694387, 210.13964679774915, 221.20929488768746, 83.8082426694387, 210.13964679774915, 221.20929488768746, 83.8082426694387, 210.13964679774915, 221.20929488768746]\n",
            "Iteration :  8\n",
            "[135.06720372368628, 86.19561521892533, 212.55885761988608, 223.75595718234567, 86.19561521892533, 212.55885761988608, 223.75595718234567, 86.19561521892533, 212.55885761988608, 223.75595718234567, 86.19561521892533, 212.55885761988608, 223.75595718234567]\n",
            "Iteration :  9\n",
            "[136.67071315309843, 87.79368240360503, 214.13133983236915, 225.411252811374, 87.79368240360503, 214.13133983236915, 225.411252811374, 87.79368240360503, 214.13133983236915, 225.411252811374, 87.79368240360503, 214.13133983236915, 225.411252811374]\n",
            "Iteration :  10\n",
            "[137.72800751013585, 88.83596353272108, 215.15346057167667, 226.48718242497694, 88.83596353272108, 215.15346057167667, 226.48718242497694, 88.83596353272108, 215.15346057167667, 226.48718242497694, 88.83596353272108, 215.15346057167667, 226.48718242497694]\n",
            "Iteration :  11\n",
            "[138.41641500131607, 89.52320486479027, 215.81784539193396, 227.18652930941292, 89.52320486479027, 215.81784539193396, 227.18652930941292, 89.52320486479027, 215.81784539193396, 227.18652930941292, 89.52320486479027, 215.81784539193396, 227.18652930941292]\n",
            "Iteration :  12\n",
            "[138.86704592253662, 89.97066973405697, 216.2497018455593, 227.641102130607, 89.97066973405697, 216.2497018455593, 227.641102130607, 89.97066973405697, 216.2497018455593, 227.641102130607, 89.97066973405697, 216.2497018455593, 227.641102130607]\n",
            "Iteration :  13\n",
            "[139.16020584027126, 90.26357983284927, 216.5304129861704, 227.93657290871062, 90.26357983284927, 216.5304129861704, 227.93657290871062, 90.26357983284927, 216.5304129861704, 227.93657290871062, 90.26357983284927, 216.5304129861704, 227.93657290871062]\n",
            "Iteration :  14\n",
            "[139.35142746193588, 90.4541337793767, 216.7128785805411, 228.128628353148, 90.4541337793767, 216.7128785805411, 228.128628353148, 90.4541337793767, 216.7128785805411, 228.128628353148, 90.4541337793767, 216.7128785805411, 228.128628353148]\n",
            "(1, 10, 1)\n",
            "0\n",
            "(1, 10, 1)\n",
            "Running Value Iteration...\n",
            "Iteration :  0\n",
            "[40.0, 76.0, 0.0, 84.0, 76.0, 0.0, 84.0, 76.0, 0.0, 84.0, 76.0, 0.0, 84.0]\n",
            "Iteration :  1\n",
            "[67.15253426407095, 121.27637891588687, 25.999999999880558, 138.57928888356065, 121.27637891588687, 25.999999999880558, 138.57928888356065, 121.27637891588687, 25.999999999880558, 138.57928888356065, 121.27637891588687, 25.999999999880558, 138.57928888356065]\n",
            "Iteration :  2\n",
            "[92.39093803511042, 150.6479389288373, 43.64914727152323, 174.04810123843188, 150.6479389288373, 43.64914727152323, 174.04810123843188, 150.6479389288373, 43.64914727152323, 174.04810123843188, 150.6479389288373, 43.64914727152323, 174.04810123843188]\n",
            "Iteration :  3\n",
            "[109.55825574185604, 169.7246049951429, 60.054109722676245, 197.0983867882543, 169.7246049951429, 60.054109722676245, 197.0983867882543, 169.7246049951429, 60.054109722676245, 197.0983867882543, 169.7246049951429, 60.054109722676245, 197.0983867882543]\n",
            "Iteration :  4\n",
            "[122.19605246499171, 182.11817845600564, 71.21286623205864, 212.07930300580932, 182.11817845600564, 71.21286623205864, 212.07930300580932, 182.11817845600564, 71.21286623205864, 212.07930300580932, 182.11817845600564, 71.21286623205864, 212.07930300580932]\n",
            "Iteration :  5\n",
            "[130.66010450738793, 190.17445726687734, 79.42743410209238, 221.81593756568714, 190.17445726687734, 79.42743410209238, 221.81593756568714, 190.17445726687734, 79.42743410209238, 221.81593756568714, 190.17445726687734, 79.42743410209238, 221.81593756568714]\n",
            "Iteration :  6\n",
            "[136.45724358264064, 195.41228519572886, 84.9290679296492, 228.14434884322625, 195.41228519572886, 84.9290679296492, 228.14434884322625, 195.41228519572886, 84.9290679296492, 228.14434884322625, 195.41228519572886, 84.9290679296492, 228.14434884322625]\n",
            "Iteration :  7\n",
            "[140.29346433599332, 198.8185935599346, 88.69720832856257, 232.2576069708465, 198.8185935599346, 88.69720832856257, 232.2576069708465, 198.8185935599346, 88.69720832856257, 232.2576069708465, 198.8185935599346, 88.69720832856257, 232.2576069708465]\n",
            "Iteration :  8\n",
            "[142.84736041920132, 201.0340509950553, 91.1907518182416, 234.93113441503806, 201.0340509950553, 91.1907518182416, 234.93113441503806, 201.0340509950553, 91.1907518182416, 234.93113441503806, 201.0340509950553, 91.1907518182416, 234.93113441503806]\n",
            "Iteration :  9\n",
            "[144.52451128352337, 202.47516511661559, 92.85078427232662, 236.6688814949663, 202.47516511661559, 92.85078427232662, 236.6688814949663, 202.47516511661559, 92.85078427232662, 236.6688814949663, 202.47516511661559, 92.85078427232662, 236.6688814949663]\n",
            "Iteration :  10\n",
            "[145.6272167317233, 203.41263876279262, 93.94093233413594, 237.79839685161014, 203.41263876279262, 93.94093233413594, 237.79839685161014, 203.41263876279262, 93.94093233413594, 237.79839685161014, 203.41263876279262, 93.94093233413594, 237.79839685161014]\n",
            "Iteration :  11\n",
            "[146.34809122955866, 204.0225211536627, 94.65769087546585, 238.53257178969687, 204.0225211536627, 94.65769087546585, 238.53257178969687, 204.0225211536627, 94.65769087546585, 238.53257178969687, 204.0225211536627, 94.65769087546585, 238.53257178969687]\n",
            "Iteration :  12\n",
            "[146.8193123066364, 204.41929799119248, 95.12625929905883, 239.0097809775745, 204.41929799119248, 95.12625929905883, 239.0097809775745, 204.41929799119248, 95.12625929905883, 239.0097809775745, 204.41929799119248, 95.12625929905883, 239.0097809775745]\n",
            "Iteration :  13\n",
            "[147.1265692671195, 204.67743991224438, 95.43255299915937, 239.31996473954183, 204.67743991224438, 95.43255299915937, 239.31996473954183, 204.67743991224438, 95.43255299915937, 239.31996473954183, 204.67743991224438, 95.43255299915937, 239.31996473954183]\n",
            "Iteration :  14\n",
            "[147.3268533934481, 204.84538867969707, 95.63227002347337, 239.52158317722498, 204.84538867969707, 95.63227002347337, 239.52158317722498, 204.84538867969707, 95.63227002347337, 239.52158317722498, 204.84538867969707, 95.63227002347337, 239.52158317722498]\n",
            "(10, 1, 1)\n",
            "4\n",
            "(10, 1, 1)\n",
            "Running Value Iteration...\n",
            "Iteration :  0\n",
            "[36.0, 0.0, 76.0, 80.0, 0.0, 76.0, 80.0, 0.0, 76.0, 80.0, 0.0, 76.0, 80.0]\n",
            "Iteration :  1\n",
            "[61.97430096607624, 23.399999987630622, 125.38116475183567, 131.98249127125808, 23.399999987630622, 125.38116475183567, 131.98249127125808, 23.399999987630622, 125.38116475183567, 131.98249127125808, 23.399999987630622, 125.38116475183567, 131.98249127125808]\n",
            "Iteration :  2\n",
            "[86.44914520368954, 40.28329561469644, 157.4719506091306, 165.7648447769583, 40.28329561469644, 157.4719506091306, 165.7648447769583, 40.28329561469644, 157.4719506091306, 165.7648447769583, 40.28329561469644, 157.4719506091306, 165.7648447769583]\n",
            "Iteration :  3\n",
            "[102.91003319993933, 56.19194436653667, 178.32721372968524, 187.7196760298884, 56.19194436653667, 178.32721372968524, 187.7196760298884, 56.19194436653667, 178.32721372968524, 187.7196760298884, 56.19194436653667, 178.32721372968524, 187.7196760298884]\n",
            "Iteration :  4\n",
            "[115.21050033930388, 66.89152156390946, 191.88181088592344, 201.988990914853, 66.89152156390946, 191.88181088592344, 201.988990914853, 66.89152156390946, 191.88181088592344, 201.988990914853, 66.89152156390946, 191.88181088592344, 201.988990914853]\n",
            "Iteration :  5\n",
            "[123.32423537196848, 74.88682520394634, 200.6916050623775, 211.2632643149804, 74.88682520394634, 200.6916050623775, 211.2632643149804, 74.88682520394634, 200.6916050623775, 211.2632643149804, 74.88682520394634, 200.6916050623775, 211.2632643149804]\n",
            "Iteration :  6\n",
            "[128.93575797876383, 80.16075297513765, 206.41775479740897, 217.2912616540328, 80.16075297513765, 206.41775479740897, 217.2912616540328, 80.16075297513765, 206.41775479740897, 217.2912616540328, 80.16075297513765, 206.41775479740897, 217.2912616540328]\n",
            "Iteration :  7\n",
            "[132.6086388241413, 83.8082426694387, 210.13964679774915, 221.20929488768746, 83.8082426694387, 210.13964679774915, 221.20929488768746, 83.8082426694387, 210.13964679774915, 221.20929488768746, 83.8082426694387, 210.13964679774915, 221.20929488768746]\n",
            "Iteration :  8\n",
            "[135.06720372368628, 86.19561521892533, 212.55885761988608, 223.75595718234567, 86.19561521892533, 212.55885761988608, 223.75595718234567, 86.19561521892533, 212.55885761988608, 223.75595718234567, 86.19561521892533, 212.55885761988608, 223.75595718234567]\n",
            "Iteration :  9\n",
            "[136.67071315309843, 87.79368240360503, 214.13133983236915, 225.411252811374, 87.79368240360503, 214.13133983236915, 225.411252811374, 87.79368240360503, 214.13133983236915, 225.411252811374, 87.79368240360503, 214.13133983236915, 225.411252811374]\n",
            "Iteration :  10\n",
            "[137.72800751013585, 88.83596353272108, 215.15346057167667, 226.48718242497694, 88.83596353272108, 215.15346057167667, 226.48718242497694, 88.83596353272108, 215.15346057167667, 226.48718242497694, 88.83596353272108, 215.15346057167667, 226.48718242497694]\n",
            "Iteration :  11\n",
            "[138.41641500131607, 89.52320486479027, 215.81784539193396, 227.18652930941292, 89.52320486479027, 215.81784539193396, 227.18652930941292, 89.52320486479027, 215.81784539193396, 227.18652930941292, 89.52320486479027, 215.81784539193396, 227.18652930941292]\n",
            "Iteration :  12\n",
            "[138.86704592253662, 89.97066973405697, 216.2497018455593, 227.641102130607, 89.97066973405697, 216.2497018455593, 227.641102130607, 89.97066973405697, 216.2497018455593, 227.641102130607, 89.97066973405697, 216.2497018455593, 227.641102130607]\n",
            "Iteration :  13\n",
            "[139.16020584027126, 90.26357983284927, 216.5304129861704, 227.93657290871062, 90.26357983284927, 216.5304129861704, 227.93657290871062, 90.26357983284927, 216.5304129861704, 227.93657290871062, 90.26357983284927, 216.5304129861704, 227.93657290871062]\n",
            "Iteration :  14\n",
            "[139.35142746193588, 90.4541337793767, 216.7128785805411, 228.128628353148, 90.4541337793767, 216.7128785805411, 228.128628353148, 90.4541337793767, 216.7128785805411, 228.128628353148, 90.4541337793767, 216.7128785805411, 228.128628353148]\n",
            "(1, 10, 1)\n",
            "0\n",
            "(1, 10, 1)\n",
            "Running Value Iteration...\n",
            "Iteration :  0\n",
            "[40.0, 76.0, 0.0, 84.0, 76.0, 0.0, 84.0, 76.0, 0.0, 84.0, 76.0, 0.0, 84.0]\n",
            "Iteration :  1\n",
            "[67.15253426407095, 121.27637891588687, 25.999999999880558, 138.57928888356065, 121.27637891588687, 25.999999999880558, 138.57928888356065, 121.27637891588687, 25.999999999880558, 138.57928888356065, 121.27637891588687, 25.999999999880558, 138.57928888356065]\n",
            "Iteration :  2\n",
            "[92.39093803511042, 150.6479389288373, 43.64914727152323, 174.04810123843188, 150.6479389288373, 43.64914727152323, 174.04810123843188, 150.6479389288373, 43.64914727152323, 174.04810123843188, 150.6479389288373, 43.64914727152323, 174.04810123843188]\n",
            "Iteration :  3\n",
            "[109.55825574185604, 169.7246049951429, 60.054109722676245, 197.0983867882543, 169.7246049951429, 60.054109722676245, 197.0983867882543, 169.7246049951429, 60.054109722676245, 197.0983867882543, 169.7246049951429, 60.054109722676245, 197.0983867882543]\n",
            "Iteration :  4\n",
            "[122.19605246499171, 182.11817845600564, 71.21286623205864, 212.07930300580932, 182.11817845600564, 71.21286623205864, 212.07930300580932, 182.11817845600564, 71.21286623205864, 212.07930300580932, 182.11817845600564, 71.21286623205864, 212.07930300580932]\n",
            "Iteration :  5\n",
            "[130.66010450738793, 190.17445726687734, 79.42743410209238, 221.81593756568714, 190.17445726687734, 79.42743410209238, 221.81593756568714, 190.17445726687734, 79.42743410209238, 221.81593756568714, 190.17445726687734, 79.42743410209238, 221.81593756568714]\n",
            "Iteration :  6\n",
            "[136.45724358264064, 195.41228519572886, 84.9290679296492, 228.14434884322625, 195.41228519572886, 84.9290679296492, 228.14434884322625, 195.41228519572886, 84.9290679296492, 228.14434884322625, 195.41228519572886, 84.9290679296492, 228.14434884322625]\n",
            "Iteration :  7\n",
            "[140.29346433599332, 198.8185935599346, 88.69720832856257, 232.2576069708465, 198.8185935599346, 88.69720832856257, 232.2576069708465, 198.8185935599346, 88.69720832856257, 232.2576069708465, 198.8185935599346, 88.69720832856257, 232.2576069708465]\n",
            "Iteration :  8\n",
            "[142.84736041920132, 201.0340509950553, 91.1907518182416, 234.93113441503806, 201.0340509950553, 91.1907518182416, 234.93113441503806, 201.0340509950553, 91.1907518182416, 234.93113441503806, 201.0340509950553, 91.1907518182416, 234.93113441503806]\n",
            "Iteration :  9\n",
            "[144.52451128352337, 202.47516511661559, 92.85078427232662, 236.6688814949663, 202.47516511661559, 92.85078427232662, 236.6688814949663, 202.47516511661559, 92.85078427232662, 236.6688814949663, 202.47516511661559, 92.85078427232662, 236.6688814949663]\n",
            "Iteration :  10\n",
            "[145.6272167317233, 203.41263876279262, 93.94093233413594, 237.79839685161014, 203.41263876279262, 93.94093233413594, 237.79839685161014, 203.41263876279262, 93.94093233413594, 237.79839685161014, 203.41263876279262, 93.94093233413594, 237.79839685161014]\n",
            "Iteration :  11\n",
            "[146.34809122955866, 204.0225211536627, 94.65769087546585, 238.53257178969687, 204.0225211536627, 94.65769087546585, 238.53257178969687, 204.0225211536627, 94.65769087546585, 238.53257178969687, 204.0225211536627, 94.65769087546585, 238.53257178969687]\n",
            "Iteration :  12\n",
            "[146.8193123066364, 204.41929799119248, 95.12625929905883, 239.0097809775745, 204.41929799119248, 95.12625929905883, 239.0097809775745, 204.41929799119248, 95.12625929905883, 239.0097809775745, 204.41929799119248, 95.12625929905883, 239.0097809775745]\n",
            "Iteration :  13\n",
            "[147.1265692671195, 204.67743991224438, 95.43255299915937, 239.31996473954183, 204.67743991224438, 95.43255299915937, 239.31996473954183, 204.67743991224438, 95.43255299915937, 239.31996473954183, 204.67743991224438, 95.43255299915937, 239.31996473954183]\n",
            "Iteration :  14\n",
            "[147.3268533934481, 204.84538867969707, 95.63227002347337, 239.52158317722498, 204.84538867969707, 95.63227002347337, 239.52158317722498, 204.84538867969707, 95.63227002347337, 239.52158317722498, 204.84538867969707, 95.63227002347337, 239.52158317722498]\n",
            "(10, 1, 1)\n",
            "4\n"
          ],
          "name": "stdout"
        },
        {
          "output_type": "execute_result",
          "data": {
            "text/plain": [
              "[20, 4, 0, 4, 0, 4, 0, 4, 0, 4]"
            ]
          },
          "metadata": {
            "tags": []
          },
          "execution_count": 62
        }
      ]
    },
    {
      "cell_type": "code",
      "metadata": {
        "id": "mLi5iu5T9KoB",
        "colab": {
          "base_uri": "https://localhost:8080/"
        },
        "outputId": "8013cc70-b94c-4c34-f6a1-6206d8192f1c"
      },
      "source": [
        "print(model.thresholds)\n",
        "print(model.benefits)"
      ],
      "execution_count": null,
      "outputs": [
        {
          "output_type": "stream",
          "text": [
            "[17.6050373  21.3673934  10.13300808  1.14427058]\n",
            "[20, 20, 20]\n"
          ],
          "name": "stdout"
        }
      ]
    },
    {
      "cell_type": "code",
      "metadata": {
        "colab": {
          "base_uri": "https://localhost:8080/"
        },
        "id": "nEUx4Yhu_8FW",
        "outputId": "87ed6993-3130-45bf-f917-bf3e4b8eae57"
      },
      "source": [
        "print(model.preferences)"
      ],
      "execution_count": null,
      "outputs": [
        {
          "output_type": "stream",
          "text": [
            "[[ 7.94388043 -7.50287866 -3.11876871]\n",
            " [ 4.59660073 -3.2260315   4.72963623]\n",
            " [-2.69373703  5.42322322 -3.97141164]\n",
            " [-3.74175283  5.18423982  2.7029401 ]]\n"
          ],
          "name": "stdout"
        }
      ]
    },
    {
      "cell_type": "code",
      "metadata": {
        "id": "ny-o70fmAAho",
        "colab": {
          "base_uri": "https://localhost:8080/"
        },
        "outputId": "39ba7540-8e00-4afc-d4c0-84ac57f8bae6"
      },
      "source": [
        "class A(B):\n",
        "  def sum(self, a,b):\n",
        "    return a+b\n",
        "  \n",
        "class B:\n",
        "  def prod(self,a,b):\n",
        "    return a*b\n",
        "\n",
        "print(B().sum(3,4))"
      ],
      "execution_count": null,
      "outputs": [
        {
          "output_type": "stream",
          "text": [
            "7\n"
          ],
          "name": "stdout"
        }
      ]
    },
    {
      "cell_type": "code",
      "metadata": {
        "colab": {
          "base_uri": "https://localhost:8080/",
          "height": 212
        },
        "id": "QJvr-WW5YrNi",
        "outputId": "be59c924-e29b-44a8-c0db-ed80b78d1067"
      },
      "source": [
        "class empl:\n",
        "  def __init__(self):\n",
        "    pass\n",
        "  def hello(self):\n",
        "    print('hi')\n",
        "  def __del__(self):\n",
        "    pass\n",
        "onj = empl()\n",
        "onj.hello()\n",
        "del onj\n",
        "onj.hello()"
      ],
      "execution_count": null,
      "outputs": [
        {
          "output_type": "stream",
          "text": [
            "hi\n"
          ],
          "name": "stdout"
        },
        {
          "output_type": "error",
          "ename": "NameError",
          "evalue": "ignored",
          "traceback": [
            "\u001b[0;31m---------------------------------------------------------------------------\u001b[0m",
            "\u001b[0;31mNameError\u001b[0m                                 Traceback (most recent call last)",
            "\u001b[0;32m<ipython-input-5-35a2d21b0e3e>\u001b[0m in \u001b[0;36m<module>\u001b[0;34m()\u001b[0m\n\u001b[1;32m      9\u001b[0m \u001b[0monj\u001b[0m\u001b[0;34m.\u001b[0m\u001b[0mhello\u001b[0m\u001b[0;34m(\u001b[0m\u001b[0;34m)\u001b[0m\u001b[0;34m\u001b[0m\u001b[0;34m\u001b[0m\u001b[0m\n\u001b[1;32m     10\u001b[0m \u001b[0;32mdel\u001b[0m \u001b[0monj\u001b[0m\u001b[0;34m\u001b[0m\u001b[0;34m\u001b[0m\u001b[0m\n\u001b[0;32m---> 11\u001b[0;31m \u001b[0monj\u001b[0m\u001b[0;34m.\u001b[0m\u001b[0mhello\u001b[0m\u001b[0;34m(\u001b[0m\u001b[0;34m)\u001b[0m\u001b[0;34m\u001b[0m\u001b[0;34m\u001b[0m\u001b[0m\n\u001b[0m",
            "\u001b[0;31mNameError\u001b[0m: name 'onj' is not defined"
          ]
        }
      ]
    },
    {
      "cell_type": "code",
      "metadata": {
        "id": "oyzp3JRIZ_kH"
      },
      "source": [
        ""
      ],
      "execution_count": null,
      "outputs": []
    }
  ]
}